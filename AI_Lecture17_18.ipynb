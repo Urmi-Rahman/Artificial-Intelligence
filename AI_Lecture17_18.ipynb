{
  "nbformat": 4,
  "nbformat_minor": 0,
  "metadata": {
    "colab": {
      "provenance": [],
      "authorship_tag": "ABX9TyMt9AW4+YtM6ZduNpzHgP6P",
      "include_colab_link": true
    },
    "kernelspec": {
      "name": "python3",
      "display_name": "Python 3"
    },
    "language_info": {
      "name": "python"
    }
  },
  "cells": [
    {
      "cell_type": "markdown",
      "metadata": {
        "id": "view-in-github",
        "colab_type": "text"
      },
      "source": [
        "<a href=\"https://colab.research.google.com/github/Urmi-Rahman/Artificial-Intelligence/blob/main/AI_Lecture17_18.ipynb\" target=\"_parent\"><img src=\"https://colab.research.google.com/assets/colab-badge.svg\" alt=\"Open In Colab\"/></a>"
      ]
    },
    {
      "cell_type": "markdown",
      "source": [
        "# Branches of ML:\n",
        "# Supervised learning\n",
        "# Unsupervised learning\n",
        "# Reinforcement learning"
      ],
      "metadata": {
        "id": "3AORma1oJ3Cp"
      }
    },
    {
      "cell_type": "code",
      "source": [],
      "metadata": {
        "id": "RjZFJlKkJ20Q"
      },
      "execution_count": null,
      "outputs": []
    },
    {
      "cell_type": "code",
      "source": [],
      "metadata": {
        "id": "TUxmgQiNJ2yC"
      },
      "execution_count": null,
      "outputs": []
    },
    {
      "cell_type": "code",
      "source": [],
      "metadata": {
        "id": "3L5vSusQJ2wI"
      },
      "execution_count": null,
      "outputs": []
    },
    {
      "cell_type": "code",
      "source": [],
      "metadata": {
        "id": "vhK_JqKoJ2uJ"
      },
      "execution_count": null,
      "outputs": []
    },
    {
      "cell_type": "code",
      "source": [],
      "metadata": {
        "id": "ePNQHqt0J2rq"
      },
      "execution_count": null,
      "outputs": []
    },
    {
      "cell_type": "code",
      "execution_count": null,
      "metadata": {
        "id": "CJQpLb6aI3uz"
      },
      "outputs": [],
      "source": []
    }
  ]
}